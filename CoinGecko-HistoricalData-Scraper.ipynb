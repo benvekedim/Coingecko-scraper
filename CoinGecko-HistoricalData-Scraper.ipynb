{
 "cells": [
  {
   "cell_type": "code",
   "execution_count": 8,
   "id": "9db9b4bb",
   "metadata": {},
   "outputs": [],
   "source": [
    "import requests\n",
    "from bs4 import BeautifulSoup\n",
    "\n",
    "headers = {\n",
    "'User-Agent':'Mozilla/5.0 (Macintosh; Intel Mac OS X 10_15_7) AppleWebKit/537.36 (KHTML, like Gecko) Chrome/103.0.5060.134 Safari/537.36 OPR/89.0.4447.83'\n",
    "}\n",
    "\n",
    "url = 'https://www.coingecko.com/en/coins/bitcoin/historical_data'\n",
    "\n",
    "r = requests.get(url)\n",
    "\n",
    "soup = BeautifulSoup(r.content,'html.parser')\n",
    "\n",
    "#soup.find_all('div',{'class':'card-block'})\n"
   ]
  },
  {
   "cell_type": "code",
   "execution_count": 57,
   "id": "230d3388",
   "metadata": {},
   "outputs": [
    {
     "data": {
      "text/plain": [
       "['2022-08-09',\n",
       " '2022-08-08',\n",
       " '2022-08-07',\n",
       " '2022-08-06',\n",
       " '2022-08-05',\n",
       " '2022-08-04',\n",
       " '2022-08-03',\n",
       " '2022-08-02',\n",
       " '2022-08-01',\n",
       " '2022-07-31',\n",
       " '2022-07-30',\n",
       " '2022-07-29',\n",
       " '2022-07-28',\n",
       " '2022-07-27',\n",
       " '2022-07-26',\n",
       " '2022-07-25',\n",
       " '2022-07-24',\n",
       " '2022-07-23',\n",
       " '2022-07-22',\n",
       " '2022-07-21',\n",
       " '2022-07-20',\n",
       " '2022-07-19',\n",
       " '2022-07-18',\n",
       " '2022-07-17',\n",
       " '2022-07-16',\n",
       " '2022-07-15',\n",
       " '2022-07-14',\n",
       " '2022-07-13',\n",
       " '2022-07-12',\n",
       " '2022-07-11',\n",
       " '2022-07-10']"
      ]
     },
     "execution_count": 57,
     "metadata": {},
     "output_type": "execute_result"
    }
   ],
   "source": [
    "date_tag_list = soup.find('table',{'class':'table table-striped text-sm text-lg-normal'})\n",
    "date_list = date_tag_list.find_all('th',{'class':'font-semibold text-center'})\n",
    "#date_list[0].text\n",
    "date = [date_list[i].text for i in range(len(date_list))]\n",
    "date"
   ]
  },
  {
   "cell_type": "code",
   "execution_count": 13,
   "id": "0640c941",
   "metadata": {},
   "outputs": [
    {
     "data": {
      "text/plain": [
       "'$455,450,642,522'"
      ]
     },
     "execution_count": 13,
     "metadata": {},
     "output_type": "execute_result"
    }
   ],
   "source": [
    "last_four_col = date_tag_list.find_all('td',{'class':'text-center'})\n",
    "last_four_col[0].text.strip()"
   ]
  },
  {
   "cell_type": "code",
   "execution_count": null,
   "id": "aec4de3d",
   "metadata": {},
   "outputs": [],
   "source": []
  },
  {
   "cell_type": "code",
   "execution_count": 15,
   "id": "4e8ea97f",
   "metadata": {},
   "outputs": [],
   "source": [
    "four_col_list = [last_four_col[i].text.strip() for i in range(len(last_four_col))]\n"
   ]
  },
  {
   "cell_type": "code",
   "execution_count": 16,
   "id": "55e2f17a",
   "metadata": {},
   "outputs": [
    {
     "data": {
      "text/plain": [
       "list"
      ]
     },
     "execution_count": 16,
     "metadata": {},
     "output_type": "execute_result"
    }
   ],
   "source": [
    "type(four_col_list)"
   ]
  },
  {
   "cell_type": "code",
   "execution_count": 18,
   "id": "2947b38a",
   "metadata": {},
   "outputs": [
    {
     "data": {
      "text/plain": [
       "124"
      ]
     },
     "execution_count": 18,
     "metadata": {},
     "output_type": "execute_result"
    }
   ],
   "source": [
    "#$ sembolü silinmeli ve string ifadeyi int'e dönüştürmeliyiz.\n",
    "#np array yapalım four_col_list'i\n",
    "import numpy as np\n",
    "np_four_col_arr = np.array(four_col_list)\n",
    "len(np_four_col_arr)"
   ]
  },
  {
   "cell_type": "code",
   "execution_count": 29,
   "id": "20e48e76",
   "metadata": {},
   "outputs": [
    {
     "data": {
      "text/plain": [
       "[455450642522,\n",
       " 27756736787,\n",
       " 23824,\n",
       " 0,\n",
       " 442979379284,\n",
       " 14324042469,\n",
       " 23198,\n",
       " 23824,\n",
       " 439414782173,\n",
       " 14439694271,\n",
       " 22985,\n",
       " 23198,\n",
       " 443821669890,\n",
       " 27040190910,\n",
       " 23225,\n",
       " 22985,\n",
       " 432420621056,\n",
       " 23624874220,\n",
       " 22678,\n",
       " 23225,\n",
       " 437035641450,\n",
       " 41334593234,\n",
       " 22860,\n",
       " 22678,\n",
       " 440954684721,\n",
       " 35151096517,\n",
       " 23054,\n",
       " 22860,\n",
       " 445958949620,\n",
       " 44489771147,\n",
       " 23334,\n",
       " 23054,\n",
       " 447051019373,\n",
       " 31786729326,\n",
       " 23380,\n",
       " 23334,\n",
       " 451726702392,\n",
       " 62102072347,\n",
       " 23653,\n",
       " 23380,\n",
       " 459609388580,\n",
       " 41089335196,\n",
       " 23848,\n",
       " 23653,\n",
       " 454806622615,\n",
       " 55609627981,\n",
       " 23822,\n",
       " 23848,\n",
       " 437193517022,\n",
       " 54498281944,\n",
       " 22909,\n",
       " 23822,\n",
       " 405692421502,\n",
       " 53995620035,\n",
       " 21236,\n",
       " 22909,\n",
       " 407480099600,\n",
       " 42667548129,\n",
       " 21330,\n",
       " 21236,\n",
       " 433819662322,\n",
       " 33108916659,\n",
       " 22614,\n",
       " 21330,\n",
       " 429803379588,\n",
       " 42519262113,\n",
       " 22506,\n",
       " 22614,\n",
       " 433485926857,\n",
       " 40304373301,\n",
       " 22697,\n",
       " 22506,\n",
       " 442379611364,\n",
       " 63224249258,\n",
       " 23155,\n",
       " 22697,\n",
       " 446130012150,\n",
       " 40775718994,\n",
       " 23313,\n",
       " 23155,\n",
       " 445889013251,\n",
       " 57338223362,\n",
       " 23367,\n",
       " 23313,\n",
       " 425756736661,\n",
       " 58636734705,\n",
       " 22395,\n",
       " 23367,\n",
       " 397660610561,\n",
       " 29615794461,\n",
       " 20824,\n",
       " 22395,\n",
       " 404705642581,\n",
       " 42051101695,\n",
       " 21193,\n",
       " 20824,\n",
       " 397285233066,\n",
       " 46542248374,\n",
       " 20795,\n",
       " 21193,\n",
       " 393104346703,\n",
       " 28732413537,\n",
       " 20575,\n",
       " 20795,\n",
       " 385462566549,\n",
       " 28560004361,\n",
       " 20225,\n",
       " 20575,\n",
       " 370191767291,\n",
       " 22074971578,\n",
       " 1935074,\n",
       " 20225,\n",
       " 382000290322,\n",
       " 21319467249,\n",
       " 1999847,\n",
       " 1935074,\n",
       " 398249545889,\n",
       " 25037950754,\n",
       " 20860,\n",
       " 1999847,\n",
       " 412459838738,\n",
       " 26211587452,\n",
       " 21590,\n",
       " 20860]"
      ]
     },
     "execution_count": 29,
     "metadata": {},
     "output_type": "execute_result"
    }
   ],
   "source": [
    "def func_clear(arr):\n",
    "    coin_historical = []\n",
    "    for i in range(len(arr)):\n",
    "        if arr[i] == 'N/A':\n",
    "            coin_historical.append(int(arr[i].replace('N/A','0')))\n",
    "        else:\n",
    "            coin_historical.append(int(arr[i].replace('$','').replace(',','').replace('.','')))\n",
    "    return coin_historical\n",
    "\n",
    "func_clear(np_four_col_arr)"
   ]
  },
  {
   "cell_type": "code",
   "execution_count": 30,
   "id": "64156d08",
   "metadata": {},
   "outputs": [
    {
     "data": {
      "text/plain": [
       "[[455450642522, 27756736787, 23824, 0],\n",
       " [442979379284, 14324042469, 23198, 23824],\n",
       " [439414782173, 14439694271, 22985, 23198],\n",
       " [443821669890, 27040190910, 23225, 22985],\n",
       " [432420621056, 23624874220, 22678, 23225],\n",
       " [437035641450, 41334593234, 22860, 22678],\n",
       " [440954684721, 35151096517, 23054, 22860],\n",
       " [445958949620, 44489771147, 23334, 23054],\n",
       " [447051019373, 31786729326, 23380, 23334],\n",
       " [451726702392, 62102072347, 23653, 23380],\n",
       " [459609388580, 41089335196, 23848, 23653],\n",
       " [454806622615, 55609627981, 23822, 23848],\n",
       " [437193517022, 54498281944, 22909, 23822],\n",
       " [405692421502, 53995620035, 21236, 22909],\n",
       " [407480099600, 42667548129, 21330, 21236],\n",
       " [433819662322, 33108916659, 22614, 21330],\n",
       " [429803379588, 42519262113, 22506, 22614],\n",
       " [433485926857, 40304373301, 22697, 22506],\n",
       " [442379611364, 63224249258, 23155, 22697],\n",
       " [446130012150, 40775718994, 23313, 23155],\n",
       " [445889013251, 57338223362, 23367, 23313],\n",
       " [425756736661, 58636734705, 22395, 23367],\n",
       " [397660610561, 29615794461, 20824, 22395],\n",
       " [404705642581, 42051101695, 21193, 20824],\n",
       " [397285233066, 46542248374, 20795, 21193],\n",
       " [393104346703, 28732413537, 20575, 20795],\n",
       " [385462566549, 28560004361, 20225, 20575],\n",
       " [370191767291, 22074971578, 1935074, 20225],\n",
       " [382000290322, 21319467249, 1999847, 1935074],\n",
       " [398249545889, 25037950754, 20860, 1999847],\n",
       " [412459838738, 26211587452, 21590, 20860]]"
      ]
     },
     "execution_count": 30,
     "metadata": {},
     "output_type": "execute_result"
    }
   ],
   "source": [
    "def get_four_col(arr):\n",
    "    return [arr[i:i+4] for i in 4*np.arange(0,31)]\n",
    "\n",
    "get_four_col(func_clear(np_four_col_arr))\n",
    "        "
   ]
  },
  {
   "cell_type": "code",
   "execution_count": 36,
   "id": "1f644c4b",
   "metadata": {},
   "outputs": [
    {
     "data": {
      "text/plain": [
       "array([455450642522, 442979379284, 439414782173, 443821669890,\n",
       "       432420621056, 437035641450, 440954684721, 445958949620,\n",
       "       447051019373, 451726702392, 459609388580, 454806622615,\n",
       "       437193517022, 405692421502, 407480099600, 433819662322,\n",
       "       429803379588, 433485926857, 442379611364, 446130012150,\n",
       "       445889013251, 425756736661, 397660610561, 404705642581,\n",
       "       397285233066, 393104346703, 385462566549, 370191767291,\n",
       "       382000290322, 398249545889, 412459838738])"
      ]
     },
     "execution_count": 36,
     "metadata": {},
     "output_type": "execute_result"
    }
   ],
   "source": [
    "market_Cap = np.array(get_four_col(func_clear(np_four_col_arr)))[:,0]\n",
    "market_Cap"
   ]
  },
  {
   "cell_type": "code",
   "execution_count": 37,
   "id": "8ee85353",
   "metadata": {},
   "outputs": [
    {
     "data": {
      "text/plain": [
       "array([27756736787, 14324042469, 14439694271, 27040190910, 23624874220,\n",
       "       41334593234, 35151096517, 44489771147, 31786729326, 62102072347,\n",
       "       41089335196, 55609627981, 54498281944, 53995620035, 42667548129,\n",
       "       33108916659, 42519262113, 40304373301, 63224249258, 40775718994,\n",
       "       57338223362, 58636734705, 29615794461, 42051101695, 46542248374,\n",
       "       28732413537, 28560004361, 22074971578, 21319467249, 25037950754,\n",
       "       26211587452])"
      ]
     },
     "execution_count": 37,
     "metadata": {},
     "output_type": "execute_result"
    }
   ],
   "source": [
    "volume = np.array(get_four_col(func_clear(np_four_col_arr)))[:,1]\n",
    "volume"
   ]
  },
  {
   "cell_type": "code",
   "execution_count": 38,
   "id": "20728be0",
   "metadata": {},
   "outputs": [
    {
     "data": {
      "text/plain": [
       "array([  23824,   23198,   22985,   23225,   22678,   22860,   23054,\n",
       "         23334,   23380,   23653,   23848,   23822,   22909,   21236,\n",
       "         21330,   22614,   22506,   22697,   23155,   23313,   23367,\n",
       "         22395,   20824,   21193,   20795,   20575,   20225, 1935074,\n",
       "       1999847,   20860,   21590])"
      ]
     },
     "execution_count": 38,
     "metadata": {},
     "output_type": "execute_result"
    }
   ],
   "source": [
    "open_prices = np.array(get_four_col(func_clear(np_four_col_arr)))[:,2]\n",
    "open_prices"
   ]
  },
  {
   "cell_type": "code",
   "execution_count": 39,
   "id": "2521036f",
   "metadata": {},
   "outputs": [
    {
     "data": {
      "text/plain": [
       "array([      0,   23824,   23198,   22985,   23225,   22678,   22860,\n",
       "         23054,   23334,   23380,   23653,   23848,   23822,   22909,\n",
       "         21236,   21330,   22614,   22506,   22697,   23155,   23313,\n",
       "         23367,   22395,   20824,   21193,   20795,   20575,   20225,\n",
       "       1935074, 1999847,   20860])"
      ]
     },
     "execution_count": 39,
     "metadata": {},
     "output_type": "execute_result"
    }
   ],
   "source": [
    "#0, N/A gözüken kapanış fiyatı\n",
    "close_prices =np.array(get_four_col(func_clear(np_four_col_arr)))[:,3]\n",
    "close_prices"
   ]
  },
  {
   "cell_type": "code",
   "execution_count": 53,
   "id": "be75d3ec",
   "metadata": {},
   "outputs": [
    {
     "name": "stdout",
     "output_type": "stream",
     "text": [
      "23824\n",
      "23198\n",
      "22985\n",
      "23225\n",
      "22678\n",
      "22860\n",
      "23054\n",
      "23334\n",
      "23380\n",
      "23653\n",
      "23848\n",
      "23822\n",
      "22909\n",
      "21236\n",
      "21330\n",
      "22614\n",
      "22506\n",
      "22697\n",
      "23155\n",
      "23313\n",
      "23367\n",
      "22395\n",
      "20824\n",
      "21193\n",
      "20795\n",
      "20575\n",
      "20225\n",
      "19350.74\n",
      "19998.47\n",
      "20860\n",
      "21590\n"
     ]
    }
   ],
   "source": [
    "\n",
    "for i in range(len(open_prices)):\n",
    "    if len(str(open_prices[i])) > 5:\n",
    "        print(open_prices[i]/np.power(10,len(str(open_prices[i]))-5))\n",
    "    else:\n",
    "        print(open_prices[i])"
   ]
  },
  {
   "cell_type": "code",
   "execution_count": 54,
   "id": "214a1d31",
   "metadata": {},
   "outputs": [
    {
     "data": {
      "text/plain": [
       "[23824,\n",
       " 23198,\n",
       " 22985,\n",
       " 23225,\n",
       " 22678,\n",
       " 22860,\n",
       " 23054,\n",
       " 23334,\n",
       " 23380,\n",
       " 23653,\n",
       " 23848,\n",
       " 23822,\n",
       " 22909,\n",
       " 21236,\n",
       " 21330,\n",
       " 22614,\n",
       " 22506,\n",
       " 22697,\n",
       " 23155,\n",
       " 23313,\n",
       " 23367,\n",
       " 22395,\n",
       " 20824,\n",
       " 21193,\n",
       " 20795,\n",
       " 20575,\n",
       " 20225,\n",
       " 19350.74,\n",
       " 19998.47,\n",
       " 20860,\n",
       " 21590]"
      ]
     },
     "execution_count": 54,
     "metadata": {},
     "output_type": "execute_result"
    }
   ],
   "source": [
    "def check_arr(arr):\n",
    "    new_arr = []\n",
    "    for i in range(len(arr)):\n",
    "        if len(str(arr[i])) > 5:\n",
    "            new_arr.append(arr[i]/np.power(10,len(str(arr[i]))-5))\n",
    "        else:\n",
    "            new_arr.append(arr[i])\n",
    "    return new_arr\n",
    "\n",
    "check_arr(open_prices)"
   ]
  },
  {
   "cell_type": "code",
   "execution_count": 61,
   "id": "605be5a7",
   "metadata": {},
   "outputs": [
    {
     "data": {
      "text/plain": [
       "[0,\n",
       " 23824,\n",
       " 23198,\n",
       " 22985,\n",
       " 23225,\n",
       " 22678,\n",
       " 22860,\n",
       " 23054,\n",
       " 23334,\n",
       " 23380,\n",
       " 23653,\n",
       " 23848,\n",
       " 23822,\n",
       " 22909,\n",
       " 21236,\n",
       " 21330,\n",
       " 22614,\n",
       " 22506,\n",
       " 22697,\n",
       " 23155,\n",
       " 23313,\n",
       " 23367,\n",
       " 22395,\n",
       " 20824,\n",
       " 21193,\n",
       " 20795,\n",
       " 20575,\n",
       " 20225,\n",
       " 19350.74,\n",
       " 19998.47,\n",
       " 20860]"
      ]
     },
     "execution_count": 61,
     "metadata": {},
     "output_type": "execute_result"
    }
   ],
   "source": [
    "check_arr(close_prices)"
   ]
  },
  {
   "cell_type": "code",
   "execution_count": 59,
   "id": "4946d5b3",
   "metadata": {},
   "outputs": [],
   "source": [
    "Open = check_arr(open_prices)\n",
    "Close =check_arr(close_prices)\n"
   ]
  },
  {
   "cell_type": "code",
   "execution_count": 63,
   "id": "96695e5c",
   "metadata": {},
   "outputs": [
    {
     "data": {
      "text/plain": [
       "[['2022-08-09', 455450642522, 27756736787, 23824, 0],\n",
       " ['2022-08-08', 442979379284, 14324042469, 23198, 23824],\n",
       " ['2022-08-07', 439414782173, 14439694271, 22985, 23198],\n",
       " ['2022-08-06', 443821669890, 27040190910, 23225, 22985],\n",
       " ['2022-08-05', 432420621056, 23624874220, 22678, 23225],\n",
       " ['2022-08-04', 437035641450, 41334593234, 22860, 22678],\n",
       " ['2022-08-03', 440954684721, 35151096517, 23054, 22860],\n",
       " ['2022-08-02', 445958949620, 44489771147, 23334, 23054],\n",
       " ['2022-08-01', 447051019373, 31786729326, 23380, 23334],\n",
       " ['2022-07-31', 451726702392, 62102072347, 23653, 23380],\n",
       " ['2022-07-30', 459609388580, 41089335196, 23848, 23653],\n",
       " ['2022-07-29', 454806622615, 55609627981, 23822, 23848],\n",
       " ['2022-07-28', 437193517022, 54498281944, 22909, 23822],\n",
       " ['2022-07-27', 405692421502, 53995620035, 21236, 22909],\n",
       " ['2022-07-26', 407480099600, 42667548129, 21330, 21236],\n",
       " ['2022-07-25', 433819662322, 33108916659, 22614, 21330],\n",
       " ['2022-07-24', 429803379588, 42519262113, 22506, 22614],\n",
       " ['2022-07-23', 433485926857, 40304373301, 22697, 22506],\n",
       " ['2022-07-22', 442379611364, 63224249258, 23155, 22697],\n",
       " ['2022-07-21', 446130012150, 40775718994, 23313, 23155],\n",
       " ['2022-07-20', 445889013251, 57338223362, 23367, 23313],\n",
       " ['2022-07-19', 425756736661, 58636734705, 22395, 23367],\n",
       " ['2022-07-18', 397660610561, 29615794461, 20824, 22395],\n",
       " ['2022-07-17', 404705642581, 42051101695, 21193, 20824],\n",
       " ['2022-07-16', 397285233066, 46542248374, 20795, 21193],\n",
       " ['2022-07-15', 393104346703, 28732413537, 20575, 20795],\n",
       " ['2022-07-14', 385462566549, 28560004361, 20225, 20575],\n",
       " ['2022-07-13', 370191767291, 22074971578, 19350.74, 20225],\n",
       " ['2022-07-12', 382000290322, 21319467249, 19998.47, 19350.74],\n",
       " ['2022-07-11', 398249545889, 25037950754, 20860, 19998.47],\n",
       " ['2022-07-10', 412459838738, 26211587452, 21590, 20860]]"
      ]
     },
     "execution_count": 63,
     "metadata": {},
     "output_type": "execute_result"
    }
   ],
   "source": [
    "veri = [[date[i],market_Cap[i],volume[i],Open[i],Close[i]] for i in range(0,31)]\n",
    "veri"
   ]
  },
  {
   "cell_type": "code",
   "execution_count": 65,
   "id": "ffa55bb1",
   "metadata": {},
   "outputs": [
    {
     "data": {
      "text/html": [
       "<div>\n",
       "<style scoped>\n",
       "    .dataframe tbody tr th:only-of-type {\n",
       "        vertical-align: middle;\n",
       "    }\n",
       "\n",
       "    .dataframe tbody tr th {\n",
       "        vertical-align: top;\n",
       "    }\n",
       "\n",
       "    .dataframe thead th {\n",
       "        text-align: right;\n",
       "    }\n",
       "</style>\n",
       "<table border=\"1\" class=\"dataframe\">\n",
       "  <thead>\n",
       "    <tr style=\"text-align: right;\">\n",
       "      <th></th>\n",
       "      <th>Date</th>\n",
       "      <th>MarketCap</th>\n",
       "      <th>Volume</th>\n",
       "      <th>Open</th>\n",
       "      <th>Close</th>\n",
       "    </tr>\n",
       "  </thead>\n",
       "  <tbody>\n",
       "    <tr>\n",
       "      <th>0</th>\n",
       "      <td>2022-08-09</td>\n",
       "      <td>455450642522</td>\n",
       "      <td>27756736787</td>\n",
       "      <td>23824.00</td>\n",
       "      <td>0.00</td>\n",
       "    </tr>\n",
       "    <tr>\n",
       "      <th>1</th>\n",
       "      <td>2022-08-08</td>\n",
       "      <td>442979379284</td>\n",
       "      <td>14324042469</td>\n",
       "      <td>23198.00</td>\n",
       "      <td>23824.00</td>\n",
       "    </tr>\n",
       "    <tr>\n",
       "      <th>2</th>\n",
       "      <td>2022-08-07</td>\n",
       "      <td>439414782173</td>\n",
       "      <td>14439694271</td>\n",
       "      <td>22985.00</td>\n",
       "      <td>23198.00</td>\n",
       "    </tr>\n",
       "    <tr>\n",
       "      <th>3</th>\n",
       "      <td>2022-08-06</td>\n",
       "      <td>443821669890</td>\n",
       "      <td>27040190910</td>\n",
       "      <td>23225.00</td>\n",
       "      <td>22985.00</td>\n",
       "    </tr>\n",
       "    <tr>\n",
       "      <th>4</th>\n",
       "      <td>2022-08-05</td>\n",
       "      <td>432420621056</td>\n",
       "      <td>23624874220</td>\n",
       "      <td>22678.00</td>\n",
       "      <td>23225.00</td>\n",
       "    </tr>\n",
       "    <tr>\n",
       "      <th>5</th>\n",
       "      <td>2022-08-04</td>\n",
       "      <td>437035641450</td>\n",
       "      <td>41334593234</td>\n",
       "      <td>22860.00</td>\n",
       "      <td>22678.00</td>\n",
       "    </tr>\n",
       "    <tr>\n",
       "      <th>6</th>\n",
       "      <td>2022-08-03</td>\n",
       "      <td>440954684721</td>\n",
       "      <td>35151096517</td>\n",
       "      <td>23054.00</td>\n",
       "      <td>22860.00</td>\n",
       "    </tr>\n",
       "    <tr>\n",
       "      <th>7</th>\n",
       "      <td>2022-08-02</td>\n",
       "      <td>445958949620</td>\n",
       "      <td>44489771147</td>\n",
       "      <td>23334.00</td>\n",
       "      <td>23054.00</td>\n",
       "    </tr>\n",
       "    <tr>\n",
       "      <th>8</th>\n",
       "      <td>2022-08-01</td>\n",
       "      <td>447051019373</td>\n",
       "      <td>31786729326</td>\n",
       "      <td>23380.00</td>\n",
       "      <td>23334.00</td>\n",
       "    </tr>\n",
       "    <tr>\n",
       "      <th>9</th>\n",
       "      <td>2022-07-31</td>\n",
       "      <td>451726702392</td>\n",
       "      <td>62102072347</td>\n",
       "      <td>23653.00</td>\n",
       "      <td>23380.00</td>\n",
       "    </tr>\n",
       "    <tr>\n",
       "      <th>10</th>\n",
       "      <td>2022-07-30</td>\n",
       "      <td>459609388580</td>\n",
       "      <td>41089335196</td>\n",
       "      <td>23848.00</td>\n",
       "      <td>23653.00</td>\n",
       "    </tr>\n",
       "    <tr>\n",
       "      <th>11</th>\n",
       "      <td>2022-07-29</td>\n",
       "      <td>454806622615</td>\n",
       "      <td>55609627981</td>\n",
       "      <td>23822.00</td>\n",
       "      <td>23848.00</td>\n",
       "    </tr>\n",
       "    <tr>\n",
       "      <th>12</th>\n",
       "      <td>2022-07-28</td>\n",
       "      <td>437193517022</td>\n",
       "      <td>54498281944</td>\n",
       "      <td>22909.00</td>\n",
       "      <td>23822.00</td>\n",
       "    </tr>\n",
       "    <tr>\n",
       "      <th>13</th>\n",
       "      <td>2022-07-27</td>\n",
       "      <td>405692421502</td>\n",
       "      <td>53995620035</td>\n",
       "      <td>21236.00</td>\n",
       "      <td>22909.00</td>\n",
       "    </tr>\n",
       "    <tr>\n",
       "      <th>14</th>\n",
       "      <td>2022-07-26</td>\n",
       "      <td>407480099600</td>\n",
       "      <td>42667548129</td>\n",
       "      <td>21330.00</td>\n",
       "      <td>21236.00</td>\n",
       "    </tr>\n",
       "    <tr>\n",
       "      <th>15</th>\n",
       "      <td>2022-07-25</td>\n",
       "      <td>433819662322</td>\n",
       "      <td>33108916659</td>\n",
       "      <td>22614.00</td>\n",
       "      <td>21330.00</td>\n",
       "    </tr>\n",
       "    <tr>\n",
       "      <th>16</th>\n",
       "      <td>2022-07-24</td>\n",
       "      <td>429803379588</td>\n",
       "      <td>42519262113</td>\n",
       "      <td>22506.00</td>\n",
       "      <td>22614.00</td>\n",
       "    </tr>\n",
       "    <tr>\n",
       "      <th>17</th>\n",
       "      <td>2022-07-23</td>\n",
       "      <td>433485926857</td>\n",
       "      <td>40304373301</td>\n",
       "      <td>22697.00</td>\n",
       "      <td>22506.00</td>\n",
       "    </tr>\n",
       "    <tr>\n",
       "      <th>18</th>\n",
       "      <td>2022-07-22</td>\n",
       "      <td>442379611364</td>\n",
       "      <td>63224249258</td>\n",
       "      <td>23155.00</td>\n",
       "      <td>22697.00</td>\n",
       "    </tr>\n",
       "    <tr>\n",
       "      <th>19</th>\n",
       "      <td>2022-07-21</td>\n",
       "      <td>446130012150</td>\n",
       "      <td>40775718994</td>\n",
       "      <td>23313.00</td>\n",
       "      <td>23155.00</td>\n",
       "    </tr>\n",
       "    <tr>\n",
       "      <th>20</th>\n",
       "      <td>2022-07-20</td>\n",
       "      <td>445889013251</td>\n",
       "      <td>57338223362</td>\n",
       "      <td>23367.00</td>\n",
       "      <td>23313.00</td>\n",
       "    </tr>\n",
       "    <tr>\n",
       "      <th>21</th>\n",
       "      <td>2022-07-19</td>\n",
       "      <td>425756736661</td>\n",
       "      <td>58636734705</td>\n",
       "      <td>22395.00</td>\n",
       "      <td>23367.00</td>\n",
       "    </tr>\n",
       "    <tr>\n",
       "      <th>22</th>\n",
       "      <td>2022-07-18</td>\n",
       "      <td>397660610561</td>\n",
       "      <td>29615794461</td>\n",
       "      <td>20824.00</td>\n",
       "      <td>22395.00</td>\n",
       "    </tr>\n",
       "    <tr>\n",
       "      <th>23</th>\n",
       "      <td>2022-07-17</td>\n",
       "      <td>404705642581</td>\n",
       "      <td>42051101695</td>\n",
       "      <td>21193.00</td>\n",
       "      <td>20824.00</td>\n",
       "    </tr>\n",
       "    <tr>\n",
       "      <th>24</th>\n",
       "      <td>2022-07-16</td>\n",
       "      <td>397285233066</td>\n",
       "      <td>46542248374</td>\n",
       "      <td>20795.00</td>\n",
       "      <td>21193.00</td>\n",
       "    </tr>\n",
       "    <tr>\n",
       "      <th>25</th>\n",
       "      <td>2022-07-15</td>\n",
       "      <td>393104346703</td>\n",
       "      <td>28732413537</td>\n",
       "      <td>20575.00</td>\n",
       "      <td>20795.00</td>\n",
       "    </tr>\n",
       "    <tr>\n",
       "      <th>26</th>\n",
       "      <td>2022-07-14</td>\n",
       "      <td>385462566549</td>\n",
       "      <td>28560004361</td>\n",
       "      <td>20225.00</td>\n",
       "      <td>20575.00</td>\n",
       "    </tr>\n",
       "    <tr>\n",
       "      <th>27</th>\n",
       "      <td>2022-07-13</td>\n",
       "      <td>370191767291</td>\n",
       "      <td>22074971578</td>\n",
       "      <td>19350.74</td>\n",
       "      <td>20225.00</td>\n",
       "    </tr>\n",
       "    <tr>\n",
       "      <th>28</th>\n",
       "      <td>2022-07-12</td>\n",
       "      <td>382000290322</td>\n",
       "      <td>21319467249</td>\n",
       "      <td>19998.47</td>\n",
       "      <td>19350.74</td>\n",
       "    </tr>\n",
       "    <tr>\n",
       "      <th>29</th>\n",
       "      <td>2022-07-11</td>\n",
       "      <td>398249545889</td>\n",
       "      <td>25037950754</td>\n",
       "      <td>20860.00</td>\n",
       "      <td>19998.47</td>\n",
       "    </tr>\n",
       "    <tr>\n",
       "      <th>30</th>\n",
       "      <td>2022-07-10</td>\n",
       "      <td>412459838738</td>\n",
       "      <td>26211587452</td>\n",
       "      <td>21590.00</td>\n",
       "      <td>20860.00</td>\n",
       "    </tr>\n",
       "  </tbody>\n",
       "</table>\n",
       "</div>"
      ],
      "text/plain": [
       "          Date     MarketCap       Volume      Open     Close\n",
       "0   2022-08-09  455450642522  27756736787  23824.00      0.00\n",
       "1   2022-08-08  442979379284  14324042469  23198.00  23824.00\n",
       "2   2022-08-07  439414782173  14439694271  22985.00  23198.00\n",
       "3   2022-08-06  443821669890  27040190910  23225.00  22985.00\n",
       "4   2022-08-05  432420621056  23624874220  22678.00  23225.00\n",
       "5   2022-08-04  437035641450  41334593234  22860.00  22678.00\n",
       "6   2022-08-03  440954684721  35151096517  23054.00  22860.00\n",
       "7   2022-08-02  445958949620  44489771147  23334.00  23054.00\n",
       "8   2022-08-01  447051019373  31786729326  23380.00  23334.00\n",
       "9   2022-07-31  451726702392  62102072347  23653.00  23380.00\n",
       "10  2022-07-30  459609388580  41089335196  23848.00  23653.00\n",
       "11  2022-07-29  454806622615  55609627981  23822.00  23848.00\n",
       "12  2022-07-28  437193517022  54498281944  22909.00  23822.00\n",
       "13  2022-07-27  405692421502  53995620035  21236.00  22909.00\n",
       "14  2022-07-26  407480099600  42667548129  21330.00  21236.00\n",
       "15  2022-07-25  433819662322  33108916659  22614.00  21330.00\n",
       "16  2022-07-24  429803379588  42519262113  22506.00  22614.00\n",
       "17  2022-07-23  433485926857  40304373301  22697.00  22506.00\n",
       "18  2022-07-22  442379611364  63224249258  23155.00  22697.00\n",
       "19  2022-07-21  446130012150  40775718994  23313.00  23155.00\n",
       "20  2022-07-20  445889013251  57338223362  23367.00  23313.00\n",
       "21  2022-07-19  425756736661  58636734705  22395.00  23367.00\n",
       "22  2022-07-18  397660610561  29615794461  20824.00  22395.00\n",
       "23  2022-07-17  404705642581  42051101695  21193.00  20824.00\n",
       "24  2022-07-16  397285233066  46542248374  20795.00  21193.00\n",
       "25  2022-07-15  393104346703  28732413537  20575.00  20795.00\n",
       "26  2022-07-14  385462566549  28560004361  20225.00  20575.00\n",
       "27  2022-07-13  370191767291  22074971578  19350.74  20225.00\n",
       "28  2022-07-12  382000290322  21319467249  19998.47  19350.74\n",
       "29  2022-07-11  398249545889  25037950754  20860.00  19998.47\n",
       "30  2022-07-10  412459838738  26211587452  21590.00  20860.00"
      ]
     },
     "execution_count": 65,
     "metadata": {},
     "output_type": "execute_result"
    }
   ],
   "source": [
    "import pandas as pd\n",
    "kolon_isimleri = ['Date','MarketCap','Volume','Open','Close']\n",
    "\n",
    "df = pd.DataFrame(data=veri,columns=kolon_isimleri)\n",
    "df"
   ]
  },
  {
   "cell_type": "code",
   "execution_count": 67,
   "id": "0b476679",
   "metadata": {},
   "outputs": [
    {
     "data": {
      "text/plain": [
       "22283.684193548386"
      ]
     },
     "execution_count": 67,
     "metadata": {},
     "output_type": "execute_result"
    }
   ],
   "source": [
    "np.mean(df['Open'])"
   ]
  },
  {
   "cell_type": "code",
   "execution_count": 69,
   "id": "219006cc",
   "metadata": {},
   "outputs": [
    {
     "data": {
      "text/plain": [
       "22306.806999999997"
      ]
     },
     "execution_count": 69,
     "metadata": {},
     "output_type": "execute_result"
    }
   ],
   "source": [
    "np.mean(df['Close'][1:31])"
   ]
  },
  {
   "cell_type": "code",
   "execution_count": 79,
   "id": "bf9d181f",
   "metadata": {},
   "outputs": [
    {
     "data": {
      "text/plain": [
       "[<matplotlib.lines.Line2D at 0x7ff0ac70f0a0>]"
      ]
     },
     "execution_count": 79,
     "metadata": {},
     "output_type": "execute_result"
    },
    {
     "data": {
      "image/png": "[encoded data removed]",
      "text/plain": [
       "<Figure size 432x288 with 1 Axes>"
      ]
     },
     "metadata": {
      "needs_background": "light"
     },
     "output_type": "display_data"
    }
   ],
   "source": [
    "import matplotlib.pyplot as plt\n",
    "\n",
    "#Open Prices-Açılış fiyatları\n",
    "plt.plot(range(len(df)),list(reversed(df['Open'])))"
   ]
  },
  {
   "cell_type": "code",
   "execution_count": null,
   "id": "5527f765",
   "metadata": {},
   "outputs": [],
   "source": []
  },
  {
   "cell_type": "code",
   "execution_count": 84,
   "id": "49699e51",
   "metadata": {},
   "outputs": [
    {
     "data": {
      "text/plain": [
       "[<matplotlib.lines.Line2D at 0x7ff0ad100340>]"
      ]
     },
     "execution_count": 84,
     "metadata": {},
     "output_type": "execute_result"
    },
    {
     "data": {
      "image/png": "[encoded data removed]",
      "text/plain": [
       "<Figure size 432x288 with 1 Axes>"
      ]
     },
     "metadata": {
      "needs_background": "light"
     },
     "output_type": "display_data"
    }
   ],
   "source": [
    "#Close Prices-Kapanış fiyatları\n",
    "\n",
    "#list(reversed(df['Close'][1:31].values))\n",
    "\n",
    "plt.plot(range(len(df)-1),list(reversed(df['Close'][1:31].values)))"
   ]
  },
  {
   "cell_type": "code",
   "execution_count": null,
   "id": "3e99db21",
   "metadata": {},
   "outputs": [],
   "source": []
  }
 ],
 "metadata": {
  "kernelspec": {
   "display_name": "Python 3",
   "language": "python",
   "name": "python3"
  },
  "language_info": {
   "codemirror_mode": {
    "name": "ipython",
    "version": 3
   },
   "file_extension": ".py",
   "mimetype": "text/x-python",
   "name": "python",
   "nbconvert_exporter": "python",
   "pygments_lexer": "ipython3",
   "version": "3.8.8"
  }
 },
 "nbformat": 4,
 "nbformat_minor": 5
}
